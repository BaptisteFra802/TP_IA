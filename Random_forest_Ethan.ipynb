{
  "nbformat": 4,
  "nbformat_minor": 0,
  "metadata": {
    "colab": {
      "provenance": [],
      "authorship_tag": "ABX9TyOJLv7T+x0awpKGus7QwZV0",
      "include_colab_link": true
    },
    "kernelspec": {
      "name": "python3",
      "display_name": "Python 3"
    },
    "language_info": {
      "name": "python"
    }
  },
  "cells": [
    {
      "cell_type": "markdown",
      "metadata": {
        "id": "view-in-github",
        "colab_type": "text"
      },
      "source": [
        "<a href=\"https://colab.research.google.com/github/BaptisteFra802/TP_IA/blob/main/Random_forest_Ethan.ipynb\" target=\"_parent\"><img src=\"https://colab.research.google.com/assets/colab-badge.svg\" alt=\"Open In Colab\"/></a>"
      ]
    },
    {
      "cell_type": "code",
      "execution_count": 3,
      "metadata": {
        "id": "wkaLwbAqFJhV",
        "colab": {
          "base_uri": "https://localhost:8080/"
        },
        "outputId": "fc8b45c6-e3f6-42dc-d321-7ee917b78ba4"
      },
      "outputs": [
        {
          "output_type": "stream",
          "name": "stdout",
          "text": [
            "Empty DataFrame\n",
            "Columns: [Target(Class), GyroX, GyroY, GyroZ, AccX, AccY, AccZ]\n",
            "Index: []\n"
          ]
        }
      ],
      "source": [
        "#traitement des données\n",
        "import pandas as pd\n",
        "import numpy as np\n",
        "\n",
        "d=pd.read_csv(\"sensor_raw.csv\");\n",
        "# Sépare le résultat (target) des infos renvoyées par le capteur\n",
        "X = d.drop('Target(Class)', axis=1)\n",
        "y = d['y']\n",
        "\n",
        "# Split the data into training and test sets\n",
        "X_train, X_test, y_train, y_test = train_test_split(X, y, test_size=0.2)\n"
      ]
    }
  ]
}